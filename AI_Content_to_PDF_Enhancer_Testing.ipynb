{
  "cells": [
    {
      "cell_type": "markdown",
      "metadata": {},
      "source": [
        "# AI Content-to-PDF Enhancer - Testing & Development Notebook\n",
        "\n",
        "This Jupyter notebook provides a comprehensive testing environment for the AI Content-to-PDF Enhancer Chrome extension.\n",
        "\n",
        "## Features Tested:\n",
        "- Content extraction from web pages\n",
        "- AI enhancement using Gemini API\n",
        "- PDF generation and formatting\n",
        "- Logging and error handling\n",
        "- Performance metrics\n",
        "\n",
        "## Setup Instructions:\n",
        "1. Install required packages: `pip install requests beautifulsoup4 reportlab`\n",
        "2. Set your Gemini API key in the configuration section\n",
        "3. Run the cells to test different components\n"
      ]
    },
    {
      "cell_type": "code",
      "execution_count": null,
      "metadata": {},
      "outputs": [],
      "source": [
        "# Import required libraries\n",
        "import requests\n",
        "import json\n",
        "import time\n",
        "import logging\n",
        "from datetime import datetime\n",
        "from bs4 import BeautifulSoup\n",
        "from urllib.parse import urlparse\n",
        "import re\n",
        "import os\n",
        "from typing import Dict, List, Optional\n",
        "\n",
        "# Configure logging\n",
        "logging.basicConfig(\n",
        "    level=logging.INFO,\n",
        "    format='%(asctime)s - %(levelname)s - %(message)s',\n",
        "    handlers=[\n",
        "        logging.FileHandler('ai_enhancer_test.log'),\n",
        "        logging.StreamHandler()\n",
        "    ]\n",
        ")\n",
        "\n",
        "logger = logging.getLogger(__name__)\n",
        "print(\"Libraries imported successfully!\")\n"
      ]
    },
    {
      "cell_type": "markdown",
      "metadata": {},
      "source": [
        "## Configuration\n"
      ]
    },
    {
      "cell_type": "code",
      "execution_count": null,
      "metadata": {},
      "outputs": [],
      "source": [
        "# Configuration\n",
        "GEMINI_API_KEY = \"YOUR_GEMINI_API_KEY_HERE\"  # Replace with your actual API key\n",
        "GEMINI_API_URL = \"https://generativelanguage.googleapis.com/v1beta/models/gemini-2.5-flash:generateContent\"\n",
        "\n",
        "# Test URLs\n",
        "TEST_URLS = [\n",
        "    \"https://en.wikipedia.org/wiki/Artificial_intelligence\",\n",
        "    \"https://www.bbc.com/news/technology\",\n",
        "    \"https://www.nature.com/articles/s41586-023-06221-2\"  # Example scientific article\n",
        "]\n",
        "\n",
        "# Enhancement types to test\n",
        "ENHANCEMENT_TYPES = [\n",
        "    \"summarize\",\n",
        "    \"expand\",\n",
        "    \"validate\",\n",
        "    \"comprehensive\"\n",
        "]\n",
        "\n",
        "print(\"Configuration loaded successfully!\")\n"
      ]
    }
  ],
  "metadata": {
    "language_info": {
      "name": "python"
    }
  },
  "nbformat": 4,
  "nbformat_minor": 2
}
